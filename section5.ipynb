{
 "cells": [
  {
   "cell_type": "code",
   "execution_count": 10,
   "id": "369ff8f5-b0f9-4740-9cf2-f1bba28c0a5d",
   "metadata": {},
   "outputs": [
    {
     "name": "stdout",
     "output_type": "stream",
     "text": [
      "[1, 2, 3]\n",
      "<class 'list'>\n",
      "[[1, 2, 3], [4, 5, 6]]\n",
      "<class 'list'>\n",
      "[1, 2, 3, [[1, 2, 3], [4, 5, 6]]]\n",
      "[1, 2, 'x', 3, [[1, 2, 3], [4, 5, 6]]]\n"
     ]
    }
   ],
   "source": [
    "#データの構造について\n",
    "#　リスト\n",
    "array = [1,2,3]\n",
    "print(array)\n",
    "print(type(array))\n",
    "array1 = [[1,2,3],[4,5,6]]#リストの入れ子\n",
    "print(array1)\n",
    "print(type(array1))\n",
    "array.append(array1)\n",
    "print(array)\n",
    "array.insert(2, \"x\")\n",
    "print(array)\n",
    "# pop() remove()なども要確認"
   ]
  },
  {
   "cell_type": "code",
   "execution_count": 12,
   "id": "7a627185-64fd-40d0-9c59-f21ecadb9377",
   "metadata": {},
   "outputs": [
    {
     "name": "stdout",
     "output_type": "stream",
     "text": [
      "(1, 2, 3)\n",
      "((1, 2, 3), (4, 5, 6))\n"
     ]
    }
   ],
   "source": [
    "# タプル 値の追加削除変更ができない\n",
    "tuple = (1,2,3)\n",
    "print(tuple)\n",
    "tuple1 = ((1,2,3),(4,5,6))\n",
    "print(tuple1)"
   ]
  },
  {
   "cell_type": "code",
   "execution_count": 14,
   "id": "0f8c0b5d-643a-4459-ac29-fe31885cddf9",
   "metadata": {},
   "outputs": [
    {
     "name": "stdout",
     "output_type": "stream",
     "text": [
      "{'Jan': '1月', 'Feb': '2月', 'Mar': '3月'}\n",
      "2月\n"
     ]
    }
   ],
   "source": [
    "#辞書型 値の追加削除変更ができる、変数のキーで値を呼び出す。\n",
    "dict = {\"Jan\":\"1月\", \"Feb\": \"2月\", \"Mar\": \"3月\"}\n",
    "print(dict)\n",
    "print(dict[\"Feb\"])"
   ]
  },
  {
   "cell_type": "code",
   "execution_count": 27,
   "id": "98b9eed7-f488-4d85-8d3c-5bb083c2d21f",
   "metadata": {},
   "outputs": [
    {
     "name": "stdout",
     "output_type": "stream",
     "text": [
      "{'choki', 'pa', 'gu'}\n",
      "<class 'set'>\n",
      "gu\n",
      "{'choki', 'pa'}\n"
     ]
    },
    {
     "data": {
      "text/plain": [
       "{1, 2, 4, 5}"
      ]
     },
     "execution_count": 27,
     "metadata": {},
     "output_type": "execute_result"
    }
   ],
   "source": [
    "#集合型 重複する要素があったらまとめられる。　順番がないため添字指定で値の取り出しはできない\n",
    "hands = {'gu','pa','pa','choki','gu'}\n",
    "print(hands)\n",
    "print(type(hands))\n",
    "handslist =  list(hands)\n",
    "print(handslist[2])\n",
    "hands.discard(\"gu\")\n",
    "print(hands)\n",
    "A = {1,2,3}\n",
    "B = {3,4,5}\n",
    "C = {7,8,9}\n",
    "A | B #和集合\n",
    "A & B #積集合\n",
    "A & C\n",
    "A - B #差集合\n",
    "(A | B) - (A & B)# 対象差集合　^ で代用も可\n",
    "A ^ B"
   ]
  },
  {
   "cell_type": "code",
   "execution_count": 37,
   "id": "aea15399-66fa-4ba9-b00d-48c74787b283",
   "metadata": {},
   "outputs": [
    {
     "name": "stdout",
     "output_type": "stream",
     "text": [
      "もう少し\n"
     ]
    }
   ],
   "source": [
    "#文の構造について\n",
    "# if\n",
    "score = 60\n",
    "if score >= 80:\n",
    "    print(\"合格\")\n",
    "elif score >= 60:\n",
    "    print(\"もう少し\")\n",
    "else:\n",
    "    print(\"補講\")"
   ]
  },
  {
   "cell_type": "code",
   "execution_count": 48,
   "id": "135cc5a9-c5fb-49d7-8bc5-ad1e934f71db",
   "metadata": {},
   "outputs": [
    {
     "name": "stdout",
     "output_type": "stream",
     "text": [
      "0\n",
      "1\n",
      "2\n",
      "3\n",
      "4\n",
      "5\n",
      "6\n",
      "7\n",
      "8\n",
      "9\n",
      "-----\n",
      "55\n",
      "62\n",
      "71\n",
      "99\n",
      "87\n"
     ]
    }
   ],
   "source": [
    "#　繰り返し for\n",
    "# range(start, stop, step)でも書ける\n",
    "for i in range(10):\n",
    "    print(i)\n",
    "print(\"-----\")\n",
    "scores = [55,62,71,99,87]\n",
    "for j in range(len(scores)):\n",
    "    print(scores[j])"
   ]
  },
  {
   "cell_type": "code",
   "execution_count": 55,
   "id": "1a2c2dc7-7323-4686-9cee-caad532a924f",
   "metadata": {},
   "outputs": [
    {
     "name": "stdout",
     "output_type": "stream",
     "text": [
      "79\n",
      "78\n",
      "77\n",
      "76\n",
      "75\n",
      "74\n",
      "73\n",
      "72\n",
      "71\n",
      "70\n",
      "69\n",
      "68\n",
      "67\n",
      "66\n",
      "65\n",
      "64\n",
      "63\n",
      "62\n",
      "61\n",
      "60\n"
     ]
    }
   ],
   "source": [
    "#繰り返し while\n",
    "weight = 80\n",
    "while weight > 60:\n",
    "    weight -= 1\n",
    "    print(weight)"
   ]
  }
 ],
 "metadata": {
  "kernelspec": {
   "display_name": "Python 3 (ipykernel)",
   "language": "python",
   "name": "python3"
  },
  "language_info": {
   "codemirror_mode": {
    "name": "ipython",
    "version": 3
   },
   "file_extension": ".py",
   "mimetype": "text/x-python",
   "name": "python",
   "nbconvert_exporter": "python",
   "pygments_lexer": "ipython3",
   "version": "3.11.7"
  }
 },
 "nbformat": 4,
 "nbformat_minor": 5
}
