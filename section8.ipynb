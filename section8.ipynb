{
 "cells": [
  {
   "cell_type": "code",
   "execution_count": 1,
   "id": "48903d0c-bfd9-4f4b-999f-d84671c1d428",
   "metadata": {},
   "outputs": [
    {
     "data": {
      "text/plain": [
       "True"
      ]
     },
     "execution_count": 1,
     "metadata": {},
     "output_type": "execute_result"
    }
   ],
   "source": [
    "#クラスとオブジェクト\n",
    "a = 100\n",
    "b = 100\n",
    "a == b"
   ]
  },
  {
   "cell_type": "code",
   "execution_count": 2,
   "id": "1416a16d-9588-4913-9f89-466e0dd04e87",
   "metadata": {},
   "outputs": [
    {
     "data": {
      "text/plain": [
       "False"
      ]
     },
     "execution_count": 2,
     "metadata": {},
     "output_type": "execute_result"
    }
   ],
   "source": [
    "a = 100\n",
    "b = '100'\n",
    "a is b"
   ]
  },
  {
   "cell_type": "code",
   "execution_count": 9,
   "id": "8b791d0b-3849-4e4f-8bf8-9fa6c1e8a447",
   "metadata": {},
   "outputs": [
    {
     "name": "stdout",
     "output_type": "stream",
     "text": [
      "4387387968\n",
      "4387571776\n"
     ]
    }
   ],
   "source": [
    "# 以下のリストは別のオブジェクト。IDが違う\n",
    "list1 = [0,1,2]\n",
    "list2 = [0,1,2]\n",
    "print(id(list1))\n",
    "print(id(list2))"
   ]
  },
  {
   "cell_type": "code",
   "execution_count": 10,
   "id": "a09509d9-f2bf-4fdc-808c-f9267e633254",
   "metadata": {},
   "outputs": [
    {
     "name": "stdout",
     "output_type": "stream",
     "text": [
      "<__main__.Animal object at 0x10583fbd0>\n",
      "<class '__main__.Animal'>\n",
      "<class '__main__.Animal'>\n",
      "False\n",
      "False\n"
     ]
    }
   ],
   "source": [
    "# クラス クラスの宣言は頭大文字で\n",
    "class Animal:\n",
    "    pass\n",
    "\n",
    "pochi = Animal()\n",
    "print(pochi)\n",
    "print(type(pochi))\n",
    "tama = Animal()\n",
    "print(type(tama))\n",
    "print(pochi == tama)\n",
    "print(pochi is tama)"
   ]
  },
  {
   "cell_type": "code",
   "execution_count": 15,
   "id": "7d85e671-7494-4d0d-940b-79a607c86b29",
   "metadata": {},
   "outputs": [
    {
     "name": "stdout",
     "output_type": "stream",
     "text": [
      "犬 5歳\n",
      "猫 2歳\n",
      "2\n",
      "私は犬です\n",
      "私は猫です\n"
     ]
    }
   ],
   "source": [
    "# クラスの初期化\n",
    "# pythonの特殊メソッド　 https://qiita.com/y518gaku/items/07961c61f5efef13cccc\n",
    "class Animal:\n",
    "    count = 0 # クラス変数\n",
    "\n",
    "    def __init__(self, kind, age):#特殊メソッド\n",
    "        self.kind = kind\n",
    "        self.age = str(age) + \"歳\"\n",
    "        Animal.count += 1\n",
    "        #print(\"私は動物です\")\n",
    "    def cry(self):# 自作メソッド\n",
    "        print(\"私は\" + self.kind + \"です\")\n",
    "        \n",
    "pochi = Animal(\"犬\", 5)\n",
    "tama = Animal(\"猫\", 2)\n",
    "print(pochi.kind, pochi.age)\n",
    "print(tama.kind, tama.age)\n",
    "print(Animal.count)\n",
    "pochi.cry()\n",
    "tama.cry()"
   ]
  },
  {
   "cell_type": "code",
   "execution_count": 24,
   "id": "c433080e-2149-4ead-a5d6-d1784a6383a4",
   "metadata": {},
   "outputs": [
    {
     "name": "stdout",
     "output_type": "stream",
     "text": [
      "わんわん\n",
      "\n",
      "ニャーニャー\n",
      "ブルーグレー色の毛が自慢だにゃん\n"
     ]
    }
   ],
   "source": [
    "#クラスの継承\n",
    "class Animal:\n",
    "    count = 0 # クラス変数\n",
    "\n",
    "    def __init__(self, kind, age):#特殊メソッド\n",
    "        self.kind = kind\n",
    "        self.age = str(age) + \"歳\"\n",
    "        Animal.count += 1\n",
    "    def cry(self):# 自作メソッド\n",
    "        print(\"\")\n",
    "\n",
    "class Dog(Animal):\n",
    "    def cry(self):# 自作メソッド\n",
    "        print(\"わんわん\")\n",
    "\n",
    "class Cat(Animal):\n",
    "    def __init__(self, kind, age, color):\n",
    "        super().__init__(kind, age)# superで親クラスのコンストラクタに値を渡す\n",
    "        self.color = color# 親クラスにないプロパティは子クラス内で持つ\n",
    "    def cry(self):# 自作メソッド\n",
    "        print(\"ニャーニャー\")\n",
    "        print(self.color + \"色の毛が自慢だにゃ\")\n",
    "\n",
    "pochi = Dog(\"柴犬\", 5)\n",
    "pochi.cry()\n",
    "print()\n",
    "tama = Cat(\"ブリティッシュショートヘア\", 2, \"ブルーグレー\")\n",
    "tama.cry()"
   ]
  }
 ],
 "metadata": {
  "kernelspec": {
   "display_name": "Python 3 (ipykernel)",
   "language": "python",
   "name": "python3"
  },
  "language_info": {
   "codemirror_mode": {
    "name": "ipython",
    "version": 3
   },
   "file_extension": ".py",
   "mimetype": "text/x-python",
   "name": "python",
   "nbconvert_exporter": "python",
   "pygments_lexer": "ipython3",
   "version": "3.11.7"
  }
 },
 "nbformat": 4,
 "nbformat_minor": 5
}
