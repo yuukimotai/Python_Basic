{
 "cells": [
  {
   "cell_type": "code",
   "execution_count": 2,
   "id": "10db42ba-1362-4510-a022-38c1880039b5",
   "metadata": {},
   "outputs": [
    {
     "name": "stdout",
     "output_type": "stream",
     "text": [
      "[0, 1, 4, 9, 16, 25, 36, 49, 64, 81]\n"
     ]
    }
   ],
   "source": [
    "# section7\n",
    "#リスト内包表記\n",
    "# https://aiacademy.jp/media/?p=1252\n",
    "numlist = [i*i for i in range(10)]\n",
    "print(numlist)"
   ]
  },
  {
   "cell_type": "code",
   "execution_count": 3,
   "id": "57dd7235-312e-4d35-a523-4d44f3abef11",
   "metadata": {},
   "outputs": [
    {
     "name": "stdout",
     "output_type": "stream",
     "text": [
      "[0, 2, 4, 6, 8]\n"
     ]
    }
   ],
   "source": [
    "#　以下のように、リストの中にforやifを書き込んで初期化できる\n",
    "numlist = [i for i in range(10) if i%2 == 0]\n",
    "print(numlist)"
   ]
  },
  {
   "cell_type": "code",
   "execution_count": 4,
   "id": "d8d57f14-5853-49ba-9cc7-c93f6258c147",
   "metadata": {},
   "outputs": [
    {
     "name": "stdout",
     "output_type": "stream",
     "text": [
      "1\n",
      "2\n",
      "3\n",
      "4\n"
     ]
    }
   ],
   "source": [
    "#map\n",
    "nums = map(int, [\"1\",\"2\",\"3\",\"4\"])#文字列になった数字がint関数で数値になってnumbersに入る\n",
    "for number in nums:\n",
    "    print(number)"
   ]
  },
  {
   "cell_type": "code",
   "execution_count": 5,
   "id": "1ae8fd13-7bd3-4ef8-a234-ca115fc9a9ea",
   "metadata": {},
   "outputs": [
    {
     "name": "stdout",
     "output_type": "stream",
     "text": [
      "1\n",
      "2\n",
      "3\n",
      "4\n",
      "[2, 4]\n"
     ]
    }
   ],
   "source": [
    "# filter\n",
    "def is_even(num):\n",
    "    print(num)\n",
    "    return num % 2 == 0\n",
    "nums = map(int, ['1','2','3','4'])\n",
    "# print(is_even(2))\n",
    "# print(is_even(5))\n",
    "even_nums = filter(is_even, nums)\n",
    "print(list(even_nums))"
   ]
  },
  {
   "cell_type": "code",
   "execution_count": 6,
   "id": "cc57734e-dfed-4002-a11e-e435816f8dbb",
   "metadata": {},
   "outputs": [
    {
     "name": "stdout",
     "output_type": "stream",
     "text": [
      "[2, 4]\n"
     ]
    }
   ],
   "source": [
    "# lambda\n",
    "nums = map(int, ['1','2','3','4'])\n",
    "# print(is_even(2))\n",
    "# print(is_even(5))\n",
    "even_nums = filter(lambda x: x % 2 ==0, nums)\n",
    "print(list(even_nums))"
   ]
  },
  {
   "cell_type": "code",
   "execution_count": 7,
   "id": "2d68733e-0da7-4bb7-b177-be01cac9e420",
   "metadata": {},
   "outputs": [
    {
     "name": "stdout",
     "output_type": "stream",
     "text": [
      "120\n"
     ]
    }
   ],
   "source": [
    "# reduce\n",
    "from functools import reduce\n",
    "result = reduce(lambda x,y: x*y, [1, 2, 3, 4, 5])# 総乗\n",
    "print(result)"
   ]
  }
 ],
 "metadata": {
  "kernelspec": {
   "display_name": "Python 3 (ipykernel)",
   "language": "python",
   "name": "python3"
  },
  "language_info": {
   "codemirror_mode": {
    "name": "ipython",
    "version": 3
   },
   "file_extension": ".py",
   "mimetype": "text/x-python",
   "name": "python",
   "nbconvert_exporter": "python",
   "pygments_lexer": "ipython3",
   "version": "3.11.7"
  }
 },
 "nbformat": 4,
 "nbformat_minor": 5
}
