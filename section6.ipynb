{
 "cells": [
  {
   "cell_type": "code",
   "execution_count": 4,
   "id": "0b8c5dc5-b5c6-492a-86a1-80049d5881ee",
   "metadata": {},
   "outputs": [
    {
     "name": "stdout",
     "output_type": "stream",
     "text": [
      "ゼロ\n"
     ]
    }
   ],
   "source": [
    "#プログラムの構造について\n",
    "#関数\n",
    "number = 0\n",
    "def my_func(x):\n",
    "    if x > 0:\n",
    "        print(\"正の整数\")\n",
    "    elif x < 0:\n",
    "        print(\"負の整数\")\n",
    "    else:\n",
    "        print(\"ゼロ\")\n",
    "my_func(number)"
   ]
  },
  {
   "cell_type": "code",
   "execution_count": 23,
   "id": "823b2f0e-4538-490a-99a0-c9f52ce95b1f",
   "metadata": {},
   "outputs": [
    {
     "name": "stdout",
     "output_type": "stream",
     "text": [
      "4x^3\n"
     ]
    }
   ],
   "source": [
    "#微分公式\n",
    "n = 4\n",
    "def differential(n):\n",
    "        return f\"{n}x^{n-1}\"\n",
    "print(differential(n))"
   ]
  }
 ],
 "metadata": {
  "kernelspec": {
   "display_name": "Python 3 (ipykernel)",
   "language": "python",
   "name": "python3"
  },
  "language_info": {
   "codemirror_mode": {
    "name": "ipython",
    "version": 3
   },
   "file_extension": ".py",
   "mimetype": "text/x-python",
   "name": "python",
   "nbconvert_exporter": "python",
   "pygments_lexer": "ipython3",
   "version": "3.11.7"
  }
 },
 "nbformat": 4,
 "nbformat_minor": 5
}
