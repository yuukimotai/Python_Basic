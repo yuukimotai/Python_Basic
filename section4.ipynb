{
 "cells": [
  {
   "cell_type": "code",
   "execution_count": 11,
   "id": "f808190d-fcfc-4c24-aeb3-24e84be23f11",
   "metadata": {},
   "outputs": [
    {
     "data": {
      "text/plain": [
       "2"
      ]
     },
     "execution_count": 11,
     "metadata": {},
     "output_type": "execute_result"
    }
   ],
   "source": [
    "#シェル操作の所から\n",
    "1 + 1"
   ]
  },
  {
   "cell_type": "code",
   "execution_count": 12,
   "id": "57fd503e-8ca3-40b5-a1e1-dc2caef6d7dd",
   "metadata": {},
   "outputs": [
    {
     "name": "stdout",
     "output_type": "stream",
     "text": [
      "Hello World.\n"
     ]
    }
   ],
   "source": [
    "print('Hello World.')"
   ]
  },
  {
   "cell_type": "code",
   "execution_count": 14,
   "id": "e7fe640e-3fb5-485d-88f5-6476c8471f46",
   "metadata": {},
   "outputs": [
    {
     "data": {
      "text/plain": [
       "7"
      ]
     },
     "execution_count": 14,
     "metadata": {},
     "output_type": "execute_result"
    }
   ],
   "source": [
    "number = 7 # int型　整数\n",
    "number"
   ]
  },
  {
   "cell_type": "code",
   "execution_count": 15,
   "id": "e945afa6-efc1-4743-8ea7-7489dcd384f7",
   "metadata": {},
   "outputs": [
    {
     "data": {
      "text/plain": [
       "'言葉'"
      ]
     },
     "execution_count": 15,
     "metadata": {},
     "output_type": "execute_result"
    }
   ],
   "source": [
    "float = 3.1415926535 # float型\n",
    "float"
   ]
  },
  {
   "cell_type": "code",
   "execution_count": 16,
   "id": "00d106de-bd87-4975-98ba-db22f5fb3336",
   "metadata": {},
   "outputs": [
    {
     "data": {
      "text/plain": [
       "3.1415926535"
      ]
     },
     "execution_count": 16,
     "metadata": {},
     "output_type": "execute_result"
    }
   ],
   "source": [
    "word = \"言葉\" # str型\n",
    "word"
   ]
  },
  {
   "cell_type": "code",
   "execution_count": 24,
   "id": "d2033ab5-b55a-4025-bcd7-4adaaf158e06",
   "metadata": {},
   "outputs": [
    {
     "data": {
      "text/plain": [
       "True"
      ]
     },
     "execution_count": 24,
     "metadata": {},
     "output_type": "execute_result"
    }
   ],
   "source": [
    "can = True #真偽値 pythonの場合 True/False と頭文字が大文字\n",
    "can"
   ]
  },
  {
   "cell_type": "code",
   "execution_count": null,
   "id": "1a67a3ff-4592-4353-8030-fa8cb338c3c1",
   "metadata": {},
   "outputs": [],
   "source": [
    "# Pythonでは文字列と数値を直接足し算してくれない"
   ]
  },
  {
   "cell_type": "code",
   "execution_count": 25,
   "id": "acf55c67-ab85-445b-b7bd-5ebb17571e59",
   "metadata": {},
   "outputs": [
    {
     "data": {
      "text/plain": [
       "3"
      ]
     },
     "execution_count": 25,
     "metadata": {},
     "output_type": "execute_result"
    }
   ],
   "source": [
    "#数値型\n",
    "1 + 1 #足し算\n",
    "2 - 1 #引き算\n",
    "2 * 3 #掛け算\n",
    "2 ** 3 #冪乗\n",
    "10 / 2 #割り算\n",
    "10 % 3 #剰余　あまり\n",
    "10 // 3 #小数点以下切り捨て"
   ]
  },
  {
   "cell_type": "code",
   "execution_count": 42,
   "id": "f1ba1bd2-20a8-4438-abf5-8f40386c41b7",
   "metadata": {},
   "outputs": [
    {
     "name": "stdout",
     "output_type": "stream",
     "text": [
      "7\n"
     ]
    }
   ],
   "source": [
    "#floatへの変換について\n",
    "# https://www.delftstack.com/ja/howto/python/float-object-is-not-callable-in-python/#google_vignette\n",
    "a = 5 + 2.0\n",
    "print(int(a))"
   ]
  },
  {
   "cell_type": "code",
   "execution_count": 45,
   "id": "4e034cc0-52ee-4841-adc9-821d0a48b962",
   "metadata": {},
   "outputs": [
    {
     "data": {
      "text/plain": [
       "1"
      ]
     },
     "execution_count": 45,
     "metadata": {},
     "output_type": "execute_result"
    }
   ],
   "source": [
    "# 文字列\n",
    "# \\m ３連クォートでprint()の中でも改行できる\n",
    "\"English\"[2:5]# 5文字目を含まないで切り出す\n",
    "len(\"English\") #文字列の長さ\n",
    "\"English School\".count(\"s\") #該当の文字が出現する回数"
   ]
  },
  {
   "cell_type": "code",
   "execution_count": null,
   "id": "9e5d778e-c485-40a0-ac41-237aba7b6ce3",
   "metadata": {},
   "outputs": [],
   "source": [
    "#比較演算子\n",
    "# <= 以下\n",
    "# >=　以上\n",
    "# < より小さい(未満)\n",
    "# > より大きい\n",
    "# == 等しい"
   ]
  },
  {
   "cell_type": "code",
   "execution_count": 51,
   "id": "bdf5650b-dfca-474e-a869-bceec1e3e829",
   "metadata": {},
   "outputs": [
    {
     "name": "stdout",
     "output_type": "stream",
     "text": [
      "1\n",
      "20 30\n"
     ]
    }
   ],
   "source": [
    "# 変数と代入について\n",
    "a = 1\n",
    "print(a)\n",
    "b, c = 20, 30\n",
    "print(b,c)"
   ]
  }
 ],
 "metadata": {
  "kernelspec": {
   "display_name": "Python 3 (ipykernel)",
   "language": "python",
   "name": "python3"
  },
  "language_info": {
   "codemirror_mode": {
    "name": "ipython",
    "version": 3
   },
   "file_extension": ".py",
   "mimetype": "text/x-python",
   "name": "python",
   "nbconvert_exporter": "python",
   "pygments_lexer": "ipython3",
   "version": "3.11.7"
  }
 },
 "nbformat": 4,
 "nbformat_minor": 5
}
